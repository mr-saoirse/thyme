{
 "cells": [
  {
   "cell_type": "code",
   "execution_count": 1,
   "id": "1649ca91",
   "metadata": {},
   "outputs": [],
   "source": [
    "import thyme\n"
   ]
  },
  {
   "cell_type": "code",
   "execution_count": 2,
   "id": "05a2d73a",
   "metadata": {},
   "outputs": [],
   "source": [
    "from thyme.ops import namespace_path"
   ]
  },
  {
   "cell_type": "code",
   "execution_count": 4,
   "id": "31c570be",
   "metadata": {},
   "outputs": [],
   "source": [
    "from glob import glob\n",
    "glob(namespace_path('one')+\"/**\")"
   ]
  },
  {
   "cell_type": "code",
   "execution_count": 7,
   "id": "ff7ba7ef",
   "metadata": {},
   "outputs": [
    {
     "data": {
      "text/plain": [
       "['/Users/sirsh/code/mr_saoirse/thyme/thyme/types/ns/one/validate',\n",
       " '/Users/sirsh/code/mr_saoirse/thyme/thyme/types/ns/one/diagram.drawio.svg',\n",
       " '/Users/sirsh/code/mr_saoirse/thyme/thyme/types/ns/one/__init__.py']"
      ]
     },
     "execution_count": 7,
     "metadata": {},
     "output_type": "execute_result"
    }
   ],
   "source": []
  },
  {
   "cell_type": "code",
   "execution_count": null,
   "id": "e0141136",
   "metadata": {},
   "outputs": [],
   "source": []
  }
 ],
 "metadata": {
  "kernelspec": {
   "display_name": "Python 3 (ipykernel)",
   "language": "python",
   "name": "python3"
  },
  "language_info": {
   "codemirror_mode": {
    "name": "ipython",
    "version": 3
   },
   "file_extension": ".py",
   "mimetype": "text/x-python",
   "name": "python",
   "nbconvert_exporter": "python",
   "pygments_lexer": "ipython3",
   "version": "3.10.10"
  }
 },
 "nbformat": 4,
 "nbformat_minor": 5
}
